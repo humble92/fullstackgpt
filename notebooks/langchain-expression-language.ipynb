{
 "cells": [
  {
   "cell_type": "code",
   "execution_count": 5,
   "metadata": {},
   "outputs": [],
   "source": [
    "from langchain.chat_models import ChatOpenAI\n",
    "from langchain.prompts import ChatPromptTemplate\n",
    "from langchain.callbacks import StreamingStdOutCallbackHandler\n",
    "\n",
    "chat = ChatOpenAI(\n",
    "    temperature=0.1, \n",
    "    streaming=True,\n",
    "    callbacks=[StreamingStdOutCallbackHandler()]\n",
    ")\n",
    "\n",
    "chef_prompt = ChatPromptTemplate.from_messages({\n",
    "    (\"system\", \"You are a world-class international chef. You create easy to follow recipes for any type of cuisine with easy to find ingredients.\"),\n",
    "    (\"human\", \"I want to cook {cuisine} food.\")\n",
    "})\n",
    "\n",
    "chef_chain = chef_prompt | chat"
   ]
  },
  {
   "cell_type": "code",
   "execution_count": 3,
   "metadata": {},
   "outputs": [],
   "source": [
    "veg_chef_prompt = ChatPromptTemplate.from_messages({\n",
    "    (\"system\", \"You are a vegetarian chef specialized on making traditional vegetarian recipes. You find alternative ingredients and explain their preparation. You don't radically modify the recipe. If there is no alternative for a food just say you don't know how to replace it.\"),\n",
    "    (\"human\", \"{recipe}.\")\n",
    "})\n",
    "\n",
    "veg_chain = veg_chef_prompt | chat"
   ]
  },
  {
   "cell_type": "code",
   "execution_count": 6,
   "metadata": {},
   "outputs": [
    {
     "name": "stdout",
     "output_type": "stream",
     "text": [
      "That's great! Indian cuisine is known for its rich flavors and aromatic spices. Here's a simple recipe for you to try:\n",
      "\n",
      "Recipe: Chicken Tikka Masala\n",
      "\n",
      "Ingredients:\n",
      "- 500g boneless chicken, cut into bite-sized pieces\n",
      "- 1 cup plain yogurt\n",
      "- 2 tablespoons lemon juice\n",
      "- 2 tablespoons vegetable oil\n",
      "- 1 large onion, finely chopped\n",
      "- 3 cloves of garlic, minced\n",
      "- 1-inch piece of ginger, grated\n",
      "- 2 teaspoons ground cumin\n",
      "- 2 teaspoons ground coriander\n",
      "- 1 teaspoon turmeric powder\n",
      "- 1 teaspoon paprika\n",
      "- 1 teaspoon garam masala\n",
      "- 1 teaspoon chili powder (adjust to taste)\n",
      "- 1 cup tomato puree\n",
      "- 1 cup heavy cream\n",
      "- Salt, to taste\n",
      "- Fresh cilantro, chopped (for garnish)\n",
      "\n",
      "Instructions:\n",
      "1. In a bowl, combine the yogurt, lemon juice, 1 teaspoon of cumin, 1 teaspoon of coriander, turmeric powder, paprika, and chili powder. Add the chicken pieces and mix well. Marinate for at least 1 hour, or overnight in the refrigerator for better flavor.\n",
      "\n",
      "2. Heat the vegetable oil in a large skillet or pan over medium heat. Add the chopped onion and cook until golden brown, stirring occasionally.\n",
      "\n",
      "3. Add the minced garlic and grated ginger to the pan. Cook for another minute until fragrant.\n",
      "\n",
      "4. Add the remaining cumin, coriander, garam masala, and salt. Stir well to combine the spices with the onion mixture.\n",
      "\n",
      "5. Add the marinated chicken to the pan, along with any remaining marinade. Cook for about 5-7 minutes, until the chicken is browned on all sides.\n",
      "\n",
      "6. Pour in the tomato puree and stir to coat the chicken evenly. Reduce the heat to low, cover the pan, and simmer for about 15-20 minutes, or until the chicken is cooked through and tender.\n",
      "\n",
      "7. Stir in the heavy cream and simmer for an additional 5 minutes to allow the flavors to meld together. Adjust the salt and spices according to your taste.\n",
      "\n",
      "8. Garnish with freshly chopped cilantro and serve hot with steamed rice or naan bread.\n",
      "\n",
      "Enjoy your homemade Chicken Tikka Masala! Feel free to explore more Indian recipes like butter chicken, biryani, or samosas. Happy cooking!"
     ]
    },
    {
     "data": {
      "text/plain": [
       "AIMessage(content=\"That's great! Indian cuisine offers a wide variety of vegetarian dishes that are equally delicious and flavorful. Here's a modified version of the Chicken Tikka Masala recipe, using alternative ingredients to make it vegetarian-friendly:\\n\\nRecipe: Vegetarian Tikka Masala\\n\\nIngredients:\\n- 500g firm tofu, cut into bite-sized pieces\\n- 1 cup plain yogurt (you can use dairy-free yogurt for a vegan option)\\n- 2 tablespoons lemon juice\\n- 2 tablespoons vegetable oil\\n- 1 large onion, finely chopped\\n- 3 cloves of garlic, minced\\n- 1-inch piece of ginger, grated\\n- 2 teaspoons ground cumin\\n- 2 teaspoons ground coriander\\n- 1 teaspoon turmeric powder\\n- 1 teaspoon paprika\\n- 1 teaspoon garam masala\\n- 1 teaspoon chili powder (adjust to taste)\\n- 1 cup tomato puree\\n- 1 cup coconut cream (or dairy-free heavy cream alternative)\\n- Salt, to taste\\n- Fresh cilantro, chopped (for garnish)\\n\\nInstructions:\\n1. In a bowl, combine the yogurt, lemon juice, 1 teaspoon of cumin, 1 teaspoon of coriander, turmeric powder, paprika, and chili powder. Add the tofu pieces and mix well. Marinate for at least 1 hour, or overnight in the refrigerator for better flavor.\\n\\n2. Heat the vegetable oil in a large skillet or pan over medium heat. Add the chopped onion and cook until golden brown, stirring occasionally.\\n\\n3. Add the minced garlic and grated ginger to the pan. Cook for another minute until fragrant.\\n\\n4. Add the remaining cumin, coriander, garam masala, and salt. Stir well to combine the spices with the onion mixture.\\n\\n5. Add the marinated tofu to the pan, along with any remaining marinade. Cook for about 5-7 minutes, until the tofu is browned on all sides.\\n\\n6. Pour in the tomato puree and stir to coat the tofu evenly. Reduce the heat to low, cover the pan, and simmer for about 15-20 minutes, or until the tofu is cooked through and tender.\\n\\n7. Stir in the coconut cream (or dairy-free heavy cream alternative) and simmer for an additional 5 minutes to allow the flavors to meld together. Adjust the salt and spices according to your taste.\\n\\n8. Garnish with freshly chopped cilantro and serve hot with steamed rice or naan bread.\\n\\nEnjoy your homemade Vegetarian Tikka Masala! Feel free to explore more Indian vegetarian recipes like paneer tikka masala, vegetable biryani, or vegetable samosas. Happy cooking!\")"
      ]
     },
     "execution_count": 6,
     "metadata": {},
     "output_type": "execute_result"
    }
   ],
   "source": [
    "# Using Runnable Map\n",
    "final_chain = {\"recipe\": chef_chain} | veg_chain\n",
    "\n",
    "final_chain.invoke({\n",
    "    \"cuisine\": \"indian\"\n",
    "})"
   ]
  }
 ],
 "metadata": {
  "kernelspec": {
   "display_name": "env",
   "language": "python",
   "name": "python3"
  },
  "language_info": {
   "codemirror_mode": {
    "name": "ipython",
    "version": 3
   },
   "file_extension": ".py",
   "mimetype": "text/x-python",
   "name": "python",
   "nbconvert_exporter": "python",
   "pygments_lexer": "ipython3",
   "version": "3.10.5"
  }
 },
 "nbformat": 4,
 "nbformat_minor": 2
}
