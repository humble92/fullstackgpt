{
 "cells": [
  {
   "cell_type": "code",
   "execution_count": 2,
   "metadata": {},
   "outputs": [
    {
     "data": {
      "text/plain": [
       "\"To make Italian pasta, you will need the following ingredients:\\n\\n- 2 cups of all-purpose flour\\n- 2 large eggs\\n- 1/2 teaspoon of salt\\n- Water (if needed)\\n\\nHere's a step-by-step guide to making Italian pasta:\\n\\n1. On a clean surface or in a large mixing bowl, pour the flour and create a well in the center.\\n2. Crack the eggs into the well and add the salt.\\n3. Using a fork or your fingers, gradually mix the eggs and salt into the flour, incorporating a little at a time.\\n4. Once the mixture starts to come together, knead the dough with your hands until it forms a smooth and elastic ball. If the dough feels too dry, you can add a little water, one tablespoon at a time, until it reaches the desired consistency.\\n5. Once the dough is formed, cover it with a clean kitchen towel or plastic wrap and let it rest for about 30 minutes. This will allow the gluten to relax and make the dough easier to work with.\\n6. After resting, divide the dough into smaller portions. You can use a pasta machine or a rolling pin to roll out the dough into thin sheets. If using a pasta machine, start with the widest setting and gradually decrease the thickness until you reach the desired thickness for your pasta.\\n7. Once the dough is rolled out, you can cut it into your desired pasta shape. For example, you can make fettuccine, spaghetti, or lasagna sheets.\\n8. If making long pasta shapes like spaghetti, you can hang them on a pasta drying rack or lay them flat on a clean surface to dry for about 15-30 minutes before cooking.\\n9. To cook the pasta, bring a large pot of salted water to a boil. Add the pasta and cook until al dente, which means it should still have a slight bite to it. The cooking time will vary depending on the thickness and shape of the pasta, so it's best to taste it as it cooks.\\n10. Once cooked, drain the pasta and serve it with your favorite sauce or toppings.\\n\\nEnjoy your homemade Italian pasta!\""
      ]
     },
     "execution_count": 2,
     "metadata": {},
     "output_type": "execute_result"
    }
   ],
   "source": [
    "from langchain.chat_models import ChatOpenAI\n",
    "from langchain.globals import set_llm_cache, set_debug\n",
    "from langchain.cache import InMemoryCache\n",
    "\n",
    "set_llm_cache(InMemoryCache())\n",
    "\n",
    "chat = ChatOpenAI(\n",
    "    temperature=0.1,\n",
    "    # streaming=True,\n",
    "    # callbacks=[\n",
    "    #     StreamingStdOutCallbackHandler(),\n",
    "    # ],\n",
    ")\n",
    "\n",
    "chat.predict(\"How do you make Italian pasta\")"
   ]
  },
  {
   "cell_type": "code",
   "execution_count": 3,
   "metadata": {},
   "outputs": [
    {
     "data": {
      "text/plain": [
       "\"To make Italian pasta, you will need the following ingredients:\\n\\n- 2 cups of all-purpose flour\\n- 2 large eggs\\n- 1/2 teaspoon of salt\\n- Water (if needed)\\n\\nHere's a step-by-step guide to making Italian pasta:\\n\\n1. On a clean surface or in a large mixing bowl, pour the flour and create a well in the center.\\n2. Crack the eggs into the well and add the salt.\\n3. Using a fork or your fingers, gradually mix the eggs and salt into the flour, incorporating a little at a time.\\n4. Once the mixture starts to come together, knead the dough with your hands until it forms a smooth and elastic ball. If the dough feels too dry, you can add a little water, one tablespoon at a time, until it reaches the desired consistency.\\n5. Once the dough is formed, cover it with a clean kitchen towel or plastic wrap and let it rest for about 30 minutes. This will allow the gluten to relax and make the dough easier to work with.\\n6. After resting, divide the dough into smaller portions. You can use a pasta machine or a rolling pin to roll out the dough into thin sheets. If using a pasta machine, start with the widest setting and gradually decrease the thickness until you reach the desired thickness for your pasta.\\n7. Once the dough is rolled out, you can cut it into your desired pasta shape. For example, you can make fettuccine, spaghetti, or lasagna sheets.\\n8. If making long pasta shapes like spaghetti, you can hang them on a pasta drying rack or lay them flat on a clean surface to dry for about 15-30 minutes before cooking.\\n9. To cook the pasta, bring a large pot of salted water to a boil. Add the pasta and cook until al dente, which means it should still have a slight bite to it. The cooking time will vary depending on the thickness and shape of the pasta, so it's best to taste it as it cooks.\\n10. Once cooked, drain the pasta and serve it with your favorite sauce or toppings.\\n\\nEnjoy your homemade Italian pasta!\""
      ]
     },
     "execution_count": 3,
     "metadata": {},
     "output_type": "execute_result"
    }
   ],
   "source": [
    "chat.predict(\"How do you make Italian pasta?\")"
   ]
  },
  {
   "cell_type": "code",
   "execution_count": 8,
   "metadata": {},
   "outputs": [
    {
     "name": "stdout",
     "output_type": "stream",
     "text": [
      "\u001b[32;1m\u001b[1;3m[llm/start]\u001b[0m \u001b[1m[1:llm:ChatOpenAI] Entering LLM run with input:\n",
      "\u001b[0m{\n",
      "  \"prompts\": [\n",
      "    \"Human: How do you make Italian pizza?\"\n",
      "  ]\n",
      "}\n",
      "\u001b[36;1m\u001b[1;3m[llm/end]\u001b[0m \u001b[1m[1:llm:ChatOpenAI] [7.30s] Exiting LLM run with output:\n",
      "\u001b[0m{\n",
      "  \"generations\": [\n",
      "    [\n",
      "      {\n",
      "        \"text\": \"To make Italian pizza, you will need the following ingredients:\\n\\n- Pizza dough (you can make your own or buy pre-made dough)\\n- Tomato sauce (preferably made from San Marzano tomatoes)\\n- Mozzarella cheese (fresh or shredded)\\n- Olive oil\\n- Fresh basil leaves\\n- Toppings of your choice (such as pepperoni, mushrooms, onions, etc.)\\n- Salt and pepper to taste\\n\\nHere's a step-by-step guide to making Italian pizza:\\n\\n1. Preheat your oven to the highest temperature possible (usually around 500°F or 260°C). If you have a pizza stone, place it in the oven to preheat as well.\\n\\n2. Roll out the pizza dough on a floured surface to your desired thickness. If you prefer a thin crust, roll it out thinner, and for a thicker crust, leave it slightly thicker.\\n\\n3. Transfer the rolled-out dough onto a pizza peel or a baking sheet lined with parchment paper.\\n\\n4. Drizzle some olive oil over the dough and spread it evenly using your hands or a brush.\\n\\n5. Spoon tomato sauce onto the dough and spread it evenly, leaving a small border around the edges for the crust.\\n\\n6. Sprinkle a generous amount of mozzarella cheese over the sauce, covering the entire pizza.\\n\\n7. Add your desired toppings, such as pepperoni, mushrooms, onions, etc.\\n\\n8. Season with salt and pepper to taste.\\n\\n9. Carefully transfer the pizza onto the preheated pizza stone in the oven or place the baking sheet directly in the oven.\\n\\n10. Bake for about 10-15 minutes or until the crust is golden brown and the cheese is bubbly and slightly browned.\\n\\n11. Remove the pizza from the oven and let it cool for a few minutes.\\n\\n12. Garnish with fresh basil leaves and drizzle with a little more olive oil if desired.\\n\\n13. Slice the pizza and serve hot.\\n\\nEnjoy your homemade Italian pizza!\",\n",
      "        \"generation_info\": {\n",
      "          \"finish_reason\": \"stop\"\n",
      "        },\n",
      "        \"type\": \"ChatGeneration\",\n",
      "        \"message\": {\n",
      "          \"lc\": 1,\n",
      "          \"type\": \"constructor\",\n",
      "          \"id\": [\n",
      "            \"langchain\",\n",
      "            \"schema\",\n",
      "            \"messages\",\n",
      "            \"AIMessage\"\n",
      "          ],\n",
      "          \"kwargs\": {\n",
      "            \"content\": \"To make Italian pizza, you will need the following ingredients:\\n\\n- Pizza dough (you can make your own or buy pre-made dough)\\n- Tomato sauce (preferably made from San Marzano tomatoes)\\n- Mozzarella cheese (fresh or shredded)\\n- Olive oil\\n- Fresh basil leaves\\n- Toppings of your choice (such as pepperoni, mushrooms, onions, etc.)\\n- Salt and pepper to taste\\n\\nHere's a step-by-step guide to making Italian pizza:\\n\\n1. Preheat your oven to the highest temperature possible (usually around 500°F or 260°C). If you have a pizza stone, place it in the oven to preheat as well.\\n\\n2. Roll out the pizza dough on a floured surface to your desired thickness. If you prefer a thin crust, roll it out thinner, and for a thicker crust, leave it slightly thicker.\\n\\n3. Transfer the rolled-out dough onto a pizza peel or a baking sheet lined with parchment paper.\\n\\n4. Drizzle some olive oil over the dough and spread it evenly using your hands or a brush.\\n\\n5. Spoon tomato sauce onto the dough and spread it evenly, leaving a small border around the edges for the crust.\\n\\n6. Sprinkle a generous amount of mozzarella cheese over the sauce, covering the entire pizza.\\n\\n7. Add your desired toppings, such as pepperoni, mushrooms, onions, etc.\\n\\n8. Season with salt and pepper to taste.\\n\\n9. Carefully transfer the pizza onto the preheated pizza stone in the oven or place the baking sheet directly in the oven.\\n\\n10. Bake for about 10-15 minutes or until the crust is golden brown and the cheese is bubbly and slightly browned.\\n\\n11. Remove the pizza from the oven and let it cool for a few minutes.\\n\\n12. Garnish with fresh basil leaves and drizzle with a little more olive oil if desired.\\n\\n13. Slice the pizza and serve hot.\\n\\nEnjoy your homemade Italian pizza!\",\n",
      "            \"additional_kwargs\": {}\n",
      "          }\n",
      "        }\n",
      "      }\n",
      "    ]\n",
      "  ],\n",
      "  \"llm_output\": {\n",
      "    \"token_usage\": {\n",
      "      \"prompt_tokens\": 14,\n",
      "      \"completion_tokens\": 396,\n",
      "      \"total_tokens\": 410\n",
      "    },\n",
      "    \"model_name\": \"gpt-3.5-turbo\",\n",
      "    \"system_fingerprint\": null\n",
      "  },\n",
      "  \"run\": null\n",
      "}\n"
     ]
    },
    {
     "data": {
      "text/plain": [
       "\"To make Italian pizza, you will need the following ingredients:\\n\\n- Pizza dough (you can make your own or buy pre-made dough)\\n- Tomato sauce (preferably made from San Marzano tomatoes)\\n- Mozzarella cheese (fresh or shredded)\\n- Olive oil\\n- Fresh basil leaves\\n- Toppings of your choice (such as pepperoni, mushrooms, onions, etc.)\\n- Salt and pepper to taste\\n\\nHere's a step-by-step guide to making Italian pizza:\\n\\n1. Preheat your oven to the highest temperature possible (usually around 500°F or 260°C). If you have a pizza stone, place it in the oven to preheat as well.\\n\\n2. Roll out the pizza dough on a floured surface to your desired thickness. If you prefer a thin crust, roll it out thinner, and for a thicker crust, leave it slightly thicker.\\n\\n3. Transfer the rolled-out dough onto a pizza peel or a baking sheet lined with parchment paper.\\n\\n4. Drizzle some olive oil over the dough and spread it evenly using your hands or a brush.\\n\\n5. Spoon tomato sauce onto the dough and spread it evenly, leaving a small border around the edges for the crust.\\n\\n6. Sprinkle a generous amount of mozzarella cheese over the sauce, covering the entire pizza.\\n\\n7. Add your desired toppings, such as pepperoni, mushrooms, onions, etc.\\n\\n8. Season with salt and pepper to taste.\\n\\n9. Carefully transfer the pizza onto the preheated pizza stone in the oven or place the baking sheet directly in the oven.\\n\\n10. Bake for about 10-15 minutes or until the crust is golden brown and the cheese is bubbly and slightly browned.\\n\\n11. Remove the pizza from the oven and let it cool for a few minutes.\\n\\n12. Garnish with fresh basil leaves and drizzle with a little more olive oil if desired.\\n\\n13. Slice the pizza and serve hot.\\n\\nEnjoy your homemade Italian pizza!\""
      ]
     },
     "execution_count": 8,
     "metadata": {},
     "output_type": "execute_result"
    }
   ],
   "source": [
    "from langchain.globals import set_llm_cache, set_debug\n",
    "\n",
    "set_debug(True)\n",
    "chat.predict(\"How do you make Italian pizza?\")"
   ]
  },
  {
   "cell_type": "code",
   "execution_count": 7,
   "metadata": {},
   "outputs": [
    {
     "name": "stdout",
     "output_type": "stream",
     "text": [
      "\u001b[32;1m\u001b[1;3m[llm/start]\u001b[0m \u001b[1m[1:llm:ChatOpenAI] Entering LLM run with input:\n",
      "\u001b[0m{\n",
      "  \"prompts\": [\n",
      "    \"Human: How do you make Italian pasta?\"\n",
      "  ]\n",
      "}\n",
      "\u001b[36;1m\u001b[1;3m[llm/end]\u001b[0m \u001b[1m[1:llm:ChatOpenAI] [1ms] Exiting LLM run with output:\n",
      "\u001b[0m{\n",
      "  \"generations\": [\n",
      "    [\n",
      "      {\n",
      "        \"text\": \"To make Italian pasta, follow these steps:\\n\\n1. Start by boiling a large pot of water. Add salt to the water to enhance the flavor of the pasta.\\n\\n2. Once the water is boiling, add the pasta to the pot. The amount of pasta depends on how many servings you want to make. Generally, 2 ounces (56 grams) of dried pasta per person is a good estimate.\\n\\n3. Cook the pasta according to the package instructions. Different types of pasta have different cooking times, so make sure to check the package for the recommended cooking time. Stir occasionally to prevent sticking.\\n\\n4. While the pasta is cooking, prepare the sauce. Italian pasta sauces can vary, but a classic option is a tomato-based sauce. Heat olive oil in a pan, add minced garlic, and sauté until fragrant. Then, add crushed tomatoes, salt, pepper, and any desired herbs or spices. Simmer the sauce for about 15-20 minutes to allow the flavors to meld together.\\n\\n5. Once the pasta is cooked al dente (firm to the bite), drain it in a colander. Reserve a small amount of the pasta water, as it can be used to adjust the consistency of the sauce later.\\n\\n6. Add the drained pasta to the saucepan with the tomato sauce. Toss the pasta gently to coat it evenly with the sauce. If the sauce seems too thick, add a little bit of the reserved pasta water to thin it out.\\n\\n7. Serve the Italian pasta hot, garnished with grated Parmesan cheese and fresh herbs, if desired.\\n\\nNote: Italian cuisine offers a wide variety of pasta shapes and sauces, so feel free to experiment with different combinations to suit your taste preferences.\",\n",
      "        \"generation_info\": {\n",
      "          \"finish_reason\": \"stop\"\n",
      "        },\n",
      "        \"type\": \"ChatGeneration\",\n",
      "        \"message\": {\n",
      "          \"lc\": 1,\n",
      "          \"type\": \"constructor\",\n",
      "          \"id\": [\n",
      "            \"langchain\",\n",
      "            \"schema\",\n",
      "            \"messages\",\n",
      "            \"AIMessage\"\n",
      "          ],\n",
      "          \"kwargs\": {\n",
      "            \"content\": \"To make Italian pasta, follow these steps:\\n\\n1. Start by boiling a large pot of water. Add salt to the water to enhance the flavor of the pasta.\\n\\n2. Once the water is boiling, add the pasta to the pot. The amount of pasta depends on how many servings you want to make. Generally, 2 ounces (56 grams) of dried pasta per person is a good estimate.\\n\\n3. Cook the pasta according to the package instructions. Different types of pasta have different cooking times, so make sure to check the package for the recommended cooking time. Stir occasionally to prevent sticking.\\n\\n4. While the pasta is cooking, prepare the sauce. Italian pasta sauces can vary, but a classic option is a tomato-based sauce. Heat olive oil in a pan, add minced garlic, and sauté until fragrant. Then, add crushed tomatoes, salt, pepper, and any desired herbs or spices. Simmer the sauce for about 15-20 minutes to allow the flavors to meld together.\\n\\n5. Once the pasta is cooked al dente (firm to the bite), drain it in a colander. Reserve a small amount of the pasta water, as it can be used to adjust the consistency of the sauce later.\\n\\n6. Add the drained pasta to the saucepan with the tomato sauce. Toss the pasta gently to coat it evenly with the sauce. If the sauce seems too thick, add a little bit of the reserved pasta water to thin it out.\\n\\n7. Serve the Italian pasta hot, garnished with grated Parmesan cheese and fresh herbs, if desired.\\n\\nNote: Italian cuisine offers a wide variety of pasta shapes and sauces, so feel free to experiment with different combinations to suit your taste preferences.\",\n",
      "            \"additional_kwargs\": {}\n",
      "          }\n",
      "        }\n",
      "      }\n",
      "    ]\n",
      "  ],\n",
      "  \"llm_output\": null,\n",
      "  \"run\": null\n",
      "}\n"
     ]
    },
    {
     "data": {
      "text/plain": [
       "'To make Italian pasta, follow these steps:\\n\\n1. Start by boiling a large pot of water. Add salt to the water to enhance the flavor of the pasta.\\n\\n2. Once the water is boiling, add the pasta to the pot. The amount of pasta depends on how many servings you want to make. Generally, 2 ounces (56 grams) of dried pasta per person is a good estimate.\\n\\n3. Cook the pasta according to the package instructions. Different types of pasta have different cooking times, so make sure to check the package for the recommended cooking time. Stir occasionally to prevent sticking.\\n\\n4. While the pasta is cooking, prepare the sauce. Italian pasta sauces can vary, but a classic option is a tomato-based sauce. Heat olive oil in a pan, add minced garlic, and sauté until fragrant. Then, add crushed tomatoes, salt, pepper, and any desired herbs or spices. Simmer the sauce for about 15-20 minutes to allow the flavors to meld together.\\n\\n5. Once the pasta is cooked al dente (firm to the bite), drain it in a colander. Reserve a small amount of the pasta water, as it can be used to adjust the consistency of the sauce later.\\n\\n6. Add the drained pasta to the saucepan with the tomato sauce. Toss the pasta gently to coat it evenly with the sauce. If the sauce seems too thick, add a little bit of the reserved pasta water to thin it out.\\n\\n7. Serve the Italian pasta hot, garnished with grated Parmesan cheese and fresh herbs, if desired.\\n\\nNote: Italian cuisine offers a wide variety of pasta shapes and sauces, so feel free to experiment with different combinations to suit your taste preferences.'"
      ]
     },
     "execution_count": 7,
     "metadata": {},
     "output_type": "execute_result"
    }
   ],
   "source": [
    "chat.predict(\"How do you make Italian pasta?\")"
   ]
  },
  {
   "cell_type": "code",
   "execution_count": 9,
   "metadata": {},
   "outputs": [
    {
     "name": "stdout",
     "output_type": "stream",
     "text": [
      "\u001b[32;1m\u001b[1;3m[llm/start]\u001b[0m \u001b[1m[1:llm:ChatOpenAI] Entering LLM run with input:\n",
      "\u001b[0m{\n",
      "  \"prompts\": [\n",
      "    \"Human: How do you make Italian pasta?\"\n",
      "  ]\n",
      "}\n",
      "\u001b[36;1m\u001b[1;3m[llm/end]\u001b[0m \u001b[1m[1:llm:ChatOpenAI] [10.17s] Exiting LLM run with output:\n",
      "\u001b[0m{\n",
      "  \"generations\": [\n",
      "    [\n",
      "      {\n",
      "        \"text\": \"To make Italian pasta, you will need the following ingredients:\\n\\n- 2 cups of all-purpose flour\\n- 2 large eggs\\n- 1/2 teaspoon of salt\\n- Water (if needed)\\n\\nHere's a step-by-step guide to making Italian pasta:\\n\\n1. On a clean surface or in a large mixing bowl, create a well with the flour. Make sure the well is wide enough to hold the eggs.\\n\\n2. Crack the eggs into the well and add the salt.\\n\\n3. Using a fork or your fingers, gradually mix the eggs and salt into the flour. Start from the center and slowly incorporate the flour into the eggs until a dough begins to form.\\n\\n4. Once the dough starts to come together, knead it with your hands for about 5-10 minutes until it becomes smooth and elastic. If the dough feels too dry, you can add a little water, one tablespoon at a time, until it reaches the desired consistency. If it's too sticky, add a little more flour.\\n\\n5. Once the dough is smooth, shape it into a ball and cover it with a clean kitchen towel or plastic wrap. Let it rest for at least 30 minutes to allow the gluten to relax.\\n\\n6. After resting, divide the dough into smaller portions. You can use a pasta machine or a rolling pin to roll out the dough into thin sheets. If using a pasta machine, start with the widest setting and gradually decrease the thickness until you reach the desired thickness for your pasta.\\n\\n7. Once the dough is rolled out, you can cut it into various pasta shapes like fettuccine, spaghetti, or lasagna sheets. You can use a sharp knife or a pasta cutter for this.\\n\\n8. As you cut the pasta, dust it with flour to prevent sticking. You can also hang the pasta on a drying rack or lay it flat on a clean surface until you're ready to cook it.\\n\\n9. To cook the pasta, bring a large pot of salted water to a boil. Add the pasta and cook it according to the package instructions or until it reaches your desired level of doneness. Fresh pasta usually cooks much faster than dried pasta, so keep an eye on it.\\n\\n10. Once cooked, drain the pasta and serve it with your favorite sauce or toppings. Traditional Italian pasta dishes include carbonara, bolognese, marinara, or pesto.\\n\\nEnjoy your homemade Italian pasta!\",\n",
      "        \"generation_info\": {\n",
      "          \"finish_reason\": \"stop\"\n",
      "        },\n",
      "        \"type\": \"ChatGeneration\",\n",
      "        \"message\": {\n",
      "          \"lc\": 1,\n",
      "          \"type\": \"constructor\",\n",
      "          \"id\": [\n",
      "            \"langchain\",\n",
      "            \"schema\",\n",
      "            \"messages\",\n",
      "            \"AIMessage\"\n",
      "          ],\n",
      "          \"kwargs\": {\n",
      "            \"content\": \"To make Italian pasta, you will need the following ingredients:\\n\\n- 2 cups of all-purpose flour\\n- 2 large eggs\\n- 1/2 teaspoon of salt\\n- Water (if needed)\\n\\nHere's a step-by-step guide to making Italian pasta:\\n\\n1. On a clean surface or in a large mixing bowl, create a well with the flour. Make sure the well is wide enough to hold the eggs.\\n\\n2. Crack the eggs into the well and add the salt.\\n\\n3. Using a fork or your fingers, gradually mix the eggs and salt into the flour. Start from the center and slowly incorporate the flour into the eggs until a dough begins to form.\\n\\n4. Once the dough starts to come together, knead it with your hands for about 5-10 minutes until it becomes smooth and elastic. If the dough feels too dry, you can add a little water, one tablespoon at a time, until it reaches the desired consistency. If it's too sticky, add a little more flour.\\n\\n5. Once the dough is smooth, shape it into a ball and cover it with a clean kitchen towel or plastic wrap. Let it rest for at least 30 minutes to allow the gluten to relax.\\n\\n6. After resting, divide the dough into smaller portions. You can use a pasta machine or a rolling pin to roll out the dough into thin sheets. If using a pasta machine, start with the widest setting and gradually decrease the thickness until you reach the desired thickness for your pasta.\\n\\n7. Once the dough is rolled out, you can cut it into various pasta shapes like fettuccine, spaghetti, or lasagna sheets. You can use a sharp knife or a pasta cutter for this.\\n\\n8. As you cut the pasta, dust it with flour to prevent sticking. You can also hang the pasta on a drying rack or lay it flat on a clean surface until you're ready to cook it.\\n\\n9. To cook the pasta, bring a large pot of salted water to a boil. Add the pasta and cook it according to the package instructions or until it reaches your desired level of doneness. Fresh pasta usually cooks much faster than dried pasta, so keep an eye on it.\\n\\n10. Once cooked, drain the pasta and serve it with your favorite sauce or toppings. Traditional Italian pasta dishes include carbonara, bolognese, marinara, or pesto.\\n\\nEnjoy your homemade Italian pasta!\",\n",
      "            \"additional_kwargs\": {}\n",
      "          }\n",
      "        }\n",
      "      }\n",
      "    ]\n",
      "  ],\n",
      "  \"llm_output\": {\n",
      "    \"token_usage\": {\n",
      "      \"prompt_tokens\": 14,\n",
      "      \"completion_tokens\": 491,\n",
      "      \"total_tokens\": 505\n",
      "    },\n",
      "    \"model_name\": \"gpt-3.5-turbo\",\n",
      "    \"system_fingerprint\": null\n",
      "  },\n",
      "  \"run\": null\n",
      "}\n"
     ]
    },
    {
     "data": {
      "text/plain": [
       "\"To make Italian pasta, you will need the following ingredients:\\n\\n- 2 cups of all-purpose flour\\n- 2 large eggs\\n- 1/2 teaspoon of salt\\n- Water (if needed)\\n\\nHere's a step-by-step guide to making Italian pasta:\\n\\n1. On a clean surface or in a large mixing bowl, create a well with the flour. Make sure the well is wide enough to hold the eggs.\\n\\n2. Crack the eggs into the well and add the salt.\\n\\n3. Using a fork or your fingers, gradually mix the eggs and salt into the flour. Start from the center and slowly incorporate the flour into the eggs until a dough begins to form.\\n\\n4. Once the dough starts to come together, knead it with your hands for about 5-10 minutes until it becomes smooth and elastic. If the dough feels too dry, you can add a little water, one tablespoon at a time, until it reaches the desired consistency. If it's too sticky, add a little more flour.\\n\\n5. Once the dough is smooth, shape it into a ball and cover it with a clean kitchen towel or plastic wrap. Let it rest for at least 30 minutes to allow the gluten to relax.\\n\\n6. After resting, divide the dough into smaller portions. You can use a pasta machine or a rolling pin to roll out the dough into thin sheets. If using a pasta machine, start with the widest setting and gradually decrease the thickness until you reach the desired thickness for your pasta.\\n\\n7. Once the dough is rolled out, you can cut it into various pasta shapes like fettuccine, spaghetti, or lasagna sheets. You can use a sharp knife or a pasta cutter for this.\\n\\n8. As you cut the pasta, dust it with flour to prevent sticking. You can also hang the pasta on a drying rack or lay it flat on a clean surface until you're ready to cook it.\\n\\n9. To cook the pasta, bring a large pot of salted water to a boil. Add the pasta and cook it according to the package instructions or until it reaches your desired level of doneness. Fresh pasta usually cooks much faster than dried pasta, so keep an eye on it.\\n\\n10. Once cooked, drain the pasta and serve it with your favorite sauce or toppings. Traditional Italian pasta dishes include carbonara, bolognese, marinara, or pesto.\\n\\nEnjoy your homemade Italian pasta!\""
      ]
     },
     "execution_count": 9,
     "metadata": {},
     "output_type": "execute_result"
    }
   ],
   "source": [
    "from langchain.chat_models import ChatOpenAI\n",
    "from langchain.callbacks import StreamingStdOutCallbackHandler\n",
    "from langchain.globals import set_llm_cache, set_debug\n",
    "from langchain.cache import InMemoryCache, SQLiteCache\n",
    "\n",
    "set_llm_cache(SQLiteCache(\"cache.db\"))\n",
    "\n",
    "\n",
    "chat = ChatOpenAI(\n",
    "    temperature=0.1,\n",
    "    # streaming=True,\n",
    "    # callbacks=[\n",
    "    #     StreamingStdOutCallbackHandler(),\n",
    "    # ],\n",
    ")\n",
    "\n",
    "chat.predict(\"How do you make Italian pasta?\")"
   ]
  },
  {
   "cell_type": "code",
   "execution_count": 10,
   "metadata": {},
   "outputs": [
    {
     "name": "stdout",
     "output_type": "stream",
     "text": [
      "\u001b[32;1m\u001b[1;3m[llm/start]\u001b[0m \u001b[1m[1:llm:ChatOpenAI] Entering LLM run with input:\n",
      "\u001b[0m{\n",
      "  \"prompts\": [\n",
      "    \"Human: How do you make Italian pasta?\"\n",
      "  ]\n",
      "}\n",
      "\u001b[36;1m\u001b[1;3m[llm/end]\u001b[0m \u001b[1m[1:llm:ChatOpenAI] [2ms] Exiting LLM run with output:\n",
      "\u001b[0m{\n",
      "  \"generations\": [\n",
      "    [\n",
      "      {\n",
      "        \"text\": \"To make Italian pasta, you will need the following ingredients:\\n\\n- 2 cups of all-purpose flour\\n- 2 large eggs\\n- 1/2 teaspoon of salt\\n- Water (if needed)\\n\\nHere's a step-by-step guide to making Italian pasta:\\n\\n1. On a clean surface or in a large mixing bowl, create a well with the flour. Make sure the well is wide enough to hold the eggs.\\n\\n2. Crack the eggs into the well and add the salt.\\n\\n3. Using a fork or your fingers, gradually mix the eggs and salt into the flour. Start from the center and slowly incorporate the flour into the eggs until a dough begins to form.\\n\\n4. Once the dough starts to come together, knead it with your hands for about 5-10 minutes until it becomes smooth and elastic. If the dough feels too dry, you can add a little water, one tablespoon at a time, until it reaches the desired consistency. If it's too sticky, add a little more flour.\\n\\n5. Once the dough is smooth, shape it into a ball and cover it with a clean kitchen towel or plastic wrap. Let it rest for at least 30 minutes to allow the gluten to relax.\\n\\n6. After resting, divide the dough into smaller portions. You can use a pasta machine or a rolling pin to roll out the dough into thin sheets. If using a pasta machine, start with the widest setting and gradually decrease the thickness until you reach the desired thickness for your pasta.\\n\\n7. Once the dough is rolled out, you can cut it into various pasta shapes like fettuccine, spaghetti, or lasagna sheets. You can use a sharp knife or a pasta cutter for this.\\n\\n8. As you cut the pasta, dust it with flour to prevent sticking. You can also hang the pasta on a drying rack or lay it flat on a clean surface until you're ready to cook it.\\n\\n9. To cook the pasta, bring a large pot of salted water to a boil. Add the pasta and cook it according to the package instructions or until it reaches your desired level of doneness. Fresh pasta usually cooks much faster than dried pasta, so keep an eye on it.\\n\\n10. Once cooked, drain the pasta and serve it with your favorite sauce or toppings. Traditional Italian pasta dishes include carbonara, bolognese, marinara, or pesto.\\n\\nEnjoy your homemade Italian pasta!\",\n",
      "        \"generation_info\": {\n",
      "          \"finish_reason\": \"stop\"\n",
      "        },\n",
      "        \"type\": \"ChatGeneration\",\n",
      "        \"message\": {\n",
      "          \"lc\": 1,\n",
      "          \"type\": \"constructor\",\n",
      "          \"id\": [\n",
      "            \"langchain\",\n",
      "            \"schema\",\n",
      "            \"messages\",\n",
      "            \"AIMessage\"\n",
      "          ],\n",
      "          \"kwargs\": {\n",
      "            \"content\": \"To make Italian pasta, you will need the following ingredients:\\n\\n- 2 cups of all-purpose flour\\n- 2 large eggs\\n- 1/2 teaspoon of salt\\n- Water (if needed)\\n\\nHere's a step-by-step guide to making Italian pasta:\\n\\n1. On a clean surface or in a large mixing bowl, create a well with the flour. Make sure the well is wide enough to hold the eggs.\\n\\n2. Crack the eggs into the well and add the salt.\\n\\n3. Using a fork or your fingers, gradually mix the eggs and salt into the flour. Start from the center and slowly incorporate the flour into the eggs until a dough begins to form.\\n\\n4. Once the dough starts to come together, knead it with your hands for about 5-10 minutes until it becomes smooth and elastic. If the dough feels too dry, you can add a little water, one tablespoon at a time, until it reaches the desired consistency. If it's too sticky, add a little more flour.\\n\\n5. Once the dough is smooth, shape it into a ball and cover it with a clean kitchen towel or plastic wrap. Let it rest for at least 30 minutes to allow the gluten to relax.\\n\\n6. After resting, divide the dough into smaller portions. You can use a pasta machine or a rolling pin to roll out the dough into thin sheets. If using a pasta machine, start with the widest setting and gradually decrease the thickness until you reach the desired thickness for your pasta.\\n\\n7. Once the dough is rolled out, you can cut it into various pasta shapes like fettuccine, spaghetti, or lasagna sheets. You can use a sharp knife or a pasta cutter for this.\\n\\n8. As you cut the pasta, dust it with flour to prevent sticking. You can also hang the pasta on a drying rack or lay it flat on a clean surface until you're ready to cook it.\\n\\n9. To cook the pasta, bring a large pot of salted water to a boil. Add the pasta and cook it according to the package instructions or until it reaches your desired level of doneness. Fresh pasta usually cooks much faster than dried pasta, so keep an eye on it.\\n\\n10. Once cooked, drain the pasta and serve it with your favorite sauce or toppings. Traditional Italian pasta dishes include carbonara, bolognese, marinara, or pesto.\\n\\nEnjoy your homemade Italian pasta!\",\n",
      "            \"additional_kwargs\": {}\n",
      "          }\n",
      "        }\n",
      "      }\n",
      "    ]\n",
      "  ],\n",
      "  \"llm_output\": null,\n",
      "  \"run\": null\n",
      "}\n"
     ]
    },
    {
     "data": {
      "text/plain": [
       "\"To make Italian pasta, you will need the following ingredients:\\n\\n- 2 cups of all-purpose flour\\n- 2 large eggs\\n- 1/2 teaspoon of salt\\n- Water (if needed)\\n\\nHere's a step-by-step guide to making Italian pasta:\\n\\n1. On a clean surface or in a large mixing bowl, create a well with the flour. Make sure the well is wide enough to hold the eggs.\\n\\n2. Crack the eggs into the well and add the salt.\\n\\n3. Using a fork or your fingers, gradually mix the eggs and salt into the flour. Start from the center and slowly incorporate the flour into the eggs until a dough begins to form.\\n\\n4. Once the dough starts to come together, knead it with your hands for about 5-10 minutes until it becomes smooth and elastic. If the dough feels too dry, you can add a little water, one tablespoon at a time, until it reaches the desired consistency. If it's too sticky, add a little more flour.\\n\\n5. Once the dough is smooth, shape it into a ball and cover it with a clean kitchen towel or plastic wrap. Let it rest for at least 30 minutes to allow the gluten to relax.\\n\\n6. After resting, divide the dough into smaller portions. You can use a pasta machine or a rolling pin to roll out the dough into thin sheets. If using a pasta machine, start with the widest setting and gradually decrease the thickness until you reach the desired thickness for your pasta.\\n\\n7. Once the dough is rolled out, you can cut it into various pasta shapes like fettuccine, spaghetti, or lasagna sheets. You can use a sharp knife or a pasta cutter for this.\\n\\n8. As you cut the pasta, dust it with flour to prevent sticking. You can also hang the pasta on a drying rack or lay it flat on a clean surface until you're ready to cook it.\\n\\n9. To cook the pasta, bring a large pot of salted water to a boil. Add the pasta and cook it according to the package instructions or until it reaches your desired level of doneness. Fresh pasta usually cooks much faster than dried pasta, so keep an eye on it.\\n\\n10. Once cooked, drain the pasta and serve it with your favorite sauce or toppings. Traditional Italian pasta dishes include carbonara, bolognese, marinara, or pesto.\\n\\nEnjoy your homemade Italian pasta!\""
      ]
     },
     "execution_count": 10,
     "metadata": {},
     "output_type": "execute_result"
    }
   ],
   "source": [
    "chat.predict(\"How do you make Italian pasta?\")"
   ]
  }
 ],
 "metadata": {
  "kernelspec": {
   "display_name": "env",
   "language": "python",
   "name": "python3"
  },
  "language_info": {
   "codemirror_mode": {
    "name": "ipython",
    "version": 3
   },
   "file_extension": ".py",
   "mimetype": "text/x-python",
   "name": "python",
   "nbconvert_exporter": "python",
   "pygments_lexer": "ipython3",
   "version": "3.10.5"
  }
 },
 "nbformat": 4,
 "nbformat_minor": 2
}
