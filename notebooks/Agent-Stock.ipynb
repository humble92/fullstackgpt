{
 "cells": [
  {
   "cell_type": "code",
   "execution_count": 13,
   "metadata": {},
   "outputs": [
    {
     "name": "stdout",
     "output_type": "stream",
     "text": [
      "\n",
      "\n",
      "\u001b[1m> Entering new AgentExecutor chain...\u001b[0m\n",
      "\u001b[32;1m\u001b[1;3m\n",
      "Invoking: `StockMarketSymbolSearchTool` with `{'query': 'Cloudflare'}`\n",
      "\n",
      "\n",
      "\u001b[0m\u001b[36;1m\u001b[1;3m[snippet: The Cloudflare Radar Data Explorer provides a simple Web-based interface to build more complex API queries, including comparisons and filters, and visualize the results. The accompanying AI Assistant translates a user's natural language statements or questions into the appropriate Radar API calls.... David Belson., title: The Cloudflare Blog, link: https://blog.cloudflare.com/], [snippet: Since early September, Cloudflare's DDoS protection systems have been combating a month-long campaign of hyper-volumetric L3/4 DDoS attacks. Cloudflare's defenses mitigated over one hundred hyper-volumetric L3/4 DDoS attacks throughout the month, with many exceeding 2 billion packets per second (Bpps) and 3 terabits per second (Tbps)., title: How Cloudflare auto-mitigated world record 3.8 Tbps DDoS attack, link: https://blog.cloudflare.com/how-cloudflare-auto-mitigated-world-record-3-8-tbps-ddos-attack/], [snippet: First, a refresher — Cloudflare operates Unimog, a Layer 4 load balancer that handles all incoming Cloudflare traffic. Cloudflare's network uses anycast, which allows a single IP address to route requests to a variety of different locations. For most Cloudflare services with anycast, the given IP address will route to the nearest Cloudflare ..., title: Our container platform is in production. It has GPUs. Here's an early look, link: https://blog.cloudflare.com/container-platform-preview/], [snippet: Cloudflare's Year in Review revealed that in 2023 alone, there was a 25% increase in global traffic, with no signs of slowing. This growth underscores the dependency on Internet services to facilitate and underpin vital systems and tasks such as supporting global digital economies, enabling the operations of healthcare networks, maintaining ..., title: Cloudflare Publishes Top Internet Trends for 2023, link: https://www.cloudflare.com/press-releases/2023/cloudflare-publishes-top-internet-trends-for-2023/]\u001b[0m\u001b[32;1m\u001b[1;3mCloudflare's stock market symbol is **NET**. \n",
      "\n",
      "### Overview of Cloudflare (NET)\n",
      "Cloudflare, Inc. is a web infrastructure and website security company that provides content delivery network services, Internet security, and distributed domain name server services. It is known for its robust DDoS protection and other security features.\n",
      "\n",
      "### Investment Analysis\n",
      "1. **Market Position**: Cloudflare is a leader in web security and performance services, which are increasingly important as more businesses move online. The company's services are critical for protecting websites from cyber threats and ensuring fast content delivery.\n",
      "\n",
      "2. **Financial Performance**: To analyze its potential as an investment, you would need to look at its financial statements, including revenue growth, profitability, and cash flow. Cloudflare has been known for strong revenue growth, but like many tech companies, it may not yet be profitable.\n",
      "\n",
      "3. **Growth Potential**: The demand for cybersecurity and web performance services is expected to grow, which could benefit Cloudflare. The company is also expanding its product offerings, which could drive future growth.\n",
      "\n",
      "4. **Risks**: Consider the competitive landscape, as Cloudflare faces competition from other tech giants in the cybersecurity and CDN space. Additionally, the tech sector can be volatile, and regulatory changes could impact operations.\n",
      "\n",
      "5. **Valuation**: Check the current stock price and compare it to historical prices, as well as its price-to-earnings (P/E) ratio compared to industry peers. This can help determine if the stock is overvalued or undervalued.\n",
      "\n",
      "### Conclusion\n",
      "Investing in Cloudflare could be promising due to its strong market position and growth potential in the cybersecurity and web services industry. However, it's important to conduct thorough research, including financial analysis and understanding market conditions, before making any investment decisions. Consulting with a financial advisor is also recommended.\u001b[0m\n",
      "\n",
      "\u001b[1m> Finished chain.\u001b[0m\n"
     ]
    },
    {
     "data": {
      "text/plain": [
       "{'input': \"Give me information on Cloudflare's stock and help me analyze if it's a potential good investment. Also tell me what symbol does the stock have.\",\n",
       " 'output': \"Cloudflare's stock market symbol is **NET**. \\n\\n### Overview of Cloudflare (NET)\\nCloudflare, Inc. is a web infrastructure and website security company that provides content delivery network services, Internet security, and distributed domain name server services. It is known for its robust DDoS protection and other security features.\\n\\n### Investment Analysis\\n1. **Market Position**: Cloudflare is a leader in web security and performance services, which are increasingly important as more businesses move online. The company's services are critical for protecting websites from cyber threats and ensuring fast content delivery.\\n\\n2. **Financial Performance**: To analyze its potential as an investment, you would need to look at its financial statements, including revenue growth, profitability, and cash flow. Cloudflare has been known for strong revenue growth, but like many tech companies, it may not yet be profitable.\\n\\n3. **Growth Potential**: The demand for cybersecurity and web performance services is expected to grow, which could benefit Cloudflare. The company is also expanding its product offerings, which could drive future growth.\\n\\n4. **Risks**: Consider the competitive landscape, as Cloudflare faces competition from other tech giants in the cybersecurity and CDN space. Additionally, the tech sector can be volatile, and regulatory changes could impact operations.\\n\\n5. **Valuation**: Check the current stock price and compare it to historical prices, as well as its price-to-earnings (P/E) ratio compared to industry peers. This can help determine if the stock is overvalued or undervalued.\\n\\n### Conclusion\\nInvesting in Cloudflare could be promising due to its strong market position and growth potential in the cybersecurity and web services industry. However, it's important to conduct thorough research, including financial analysis and understanding market conditions, before making any investment decisions. Consulting with a financial advisor is also recommended.\"}"
      ]
     },
     "execution_count": 13,
     "metadata": {},
     "output_type": "execute_result"
    }
   ],
   "source": [
    "from typing import Any, Type\n",
    "from langchain.chat_models import ChatOpenAI\n",
    "from langchain.tools import BaseTool\n",
    "from pydantic import BaseModel, Field\n",
    "from langchain.agents import initialize_agent, AgentType\n",
    "from langchain.tools.ddg_search.tool import DuckDuckGoSearchResults\n",
    "\n",
    "llm = ChatOpenAI(\n",
    "    temperature=0.1,\n",
    "    model=\"gpt-4o\",\n",
    ")\n",
    "\n",
    "\n",
    "class StockMarketSymbolSearchToolArgsSchema(BaseModel):\n",
    "    query: str = Field(\n",
    "        description=\"The query you will search for.Example query: Stock Market Symbol for Apple Company\"\n",
    "    )\n",
    "\n",
    "\n",
    "class StockMarketSymbolSearchTool(BaseTool):\n",
    "    name = \"StockMarketSymbolSearchTool\"\n",
    "    description = \"\"\"\n",
    "    Use this tool to find the stock market symbol for a company.\n",
    "    It takes a query as an argument.\n",
    "    \n",
    "    \"\"\"\n",
    "    args_schema: Type[\n",
    "        StockMarketSymbolSearchToolArgsSchema\n",
    "    ] = StockMarketSymbolSearchToolArgsSchema\n",
    "\n",
    "    def _run(self, query):\n",
    "        ddg = DuckDuckGoSearchResults()\n",
    "        return ddg.run(query)\n",
    "\n",
    "\n",
    "agent = initialize_agent(\n",
    "    llm=llm,\n",
    "    verbose=True,\n",
    "    agent=AgentType.OPENAI_FUNCTIONS,\n",
    "    handle_parsing_errors=True,\n",
    "    tools=[\n",
    "        StockMarketSymbolSearchTool(),\n",
    "    ],\n",
    ")\n",
    "\n",
    "prompt = \"Give me information on Cloudflare's stock and help me analyze if it's a potential good investment. Also tell me what symbol does the stock have.\"\n",
    "\n",
    "agent.invoke(prompt)"
   ]
  },
  {
   "cell_type": "code",
   "execution_count": 10,
   "metadata": {},
   "outputs": [
    {
     "data": {
      "text/plain": [
       "\"[snippet: WASHINGTON (AP) — Former President Barack Obama is planning to hit key swing states to boost Vice President Kamala Harris' campaign for the White House, starting next Thursday in Pittsburgh. The Harris campaign says Obama will travel around the country over the final 27 days ahead of the election. The former president and Harris have a ..., title: Obama to campaign with Harris in key swing states | AP News, link: https://apnews.com/article/kamala-harris-2024-election-democrats-e7d7fa00961acbfdcb3abd0adbc34010], [snippet: Learn about the life and achievements of Barack Obama, the 44th president of the United States and the first African American to hold the office. Explore his early years, education, political career, awards, books, and more., title: Barack Obama | Biography, Parents, Education, Presidency, Books ..., link: https://www.britannica.com/biography/Barack-Obama], [snippet: Mr. Obama, the first Black president, had cast Vice President Kamala Harris as the inheritor of his political movement in a speech at the Democratic convention. By Chris Cameron Former President ..., title: Obama, Democrats' Elder Statesman, Will Stump for Harris in Final ..., link: https://www.nytimes.com/2024/10/04/us/politics/obama-harris-democrats.html], [snippet: Learn about the life and career of Barack Obama, the 44th president of the United States and the first African American to hold the office. Explore his achievements, challenges, and legacy in politics, law, and government., title: Barack Obama - 44th President, Political Career, Legacy | Britannica, link: https://www.britannica.com/biography/Barack-Obama/Politics-and-ascent-to-the-presidency]\""
      ]
     },
     "execution_count": 10,
     "metadata": {},
     "output_type": "execute_result"
    }
   ],
   "source": [
    "# from langchain.tools import DuckDuckGoSearchResults\n",
    "from langchain.tools.ddg_search.tool import DuckDuckGoSearchResults\n",
    "search = DuckDuckGoSearchResults()\n",
    "\n",
    "# from langchain.utilities import DuckDuckGoSearchAPIWrapper\n",
    "# from langchain.utilities.duckduckgo_search import DuckDuckGoSearchAPIWrapper\n",
    "# search = DuckDuckGoSearchAPIWrapper()\n",
    "\n",
    "search.run(\"Obama\")\n",
    "# search.invoke(\"What is the stock market symbol for Apple Company?\")"
   ]
  },
  {
   "cell_type": "code",
   "execution_count": 2,
   "metadata": {},
   "outputs": [
    {
     "name": "stdout",
     "output_type": "stream",
     "text": [
      "'data_source' and 'exchange' argument deprecated, use in symbol like these:\n",
      "  fdr.DataReader('FRED:DEXKOUS', '1990-01-01')\n",
      "  fdr.DataReader('FRED:DEXKOUS')\n",
      "  fdr.DataReader('FRED:NASDAQCOM,M2,HSN1F')\n",
      "  \n",
      "  fdr.DataReader('TSE:9984', '2020-01-01')\n",
      "  fdr.DataReader('NYSE:CBOE', '1990-01-01')\n",
      "  fdr.DataReader('SSE:000150', '1990-01-01')\n",
      "\n",
      "             Open   High    Low  Close    Volume    Change\n",
      "Date                                                      \n",
      "2024-09-27  64700  65400  64200  64200  28433030 -0.007728\n",
      "2024-09-30  64200  64300  61500  61500  32694163 -0.042056\n",
      "2024-10-02  60500  61900  59900  61300  28473536 -0.003252\n",
      "2024-10-04  61000  61700  60500  60600  24247578 -0.011419\n",
      "2024-10-07  60200  61900  59500  61000  34794077  0.006601\n"
     ]
    }
   ],
   "source": [
    "import FinanceDataReader as fdr\n",
    "\n",
    "# 삼성전자 종목 코드\n",
    "stock_code = '005930'\n",
    "\n",
    "# 재무 지표 가져오기\n",
    "df = fdr.DataReader(stock_code, exchange='KRX')\n",
    "\n",
    "# 데이터 확인\n",
    "print(df.tail())\n"
   ]
  },
  {
   "cell_type": "code",
   "execution_count": 3,
   "metadata": {},
   "outputs": [
    {
     "name": "stdout",
     "output_type": "stream",
     "text": [
      "             Open   High    Low  Close    Volume  Change  UpDown  Comp  \\\n",
      "Date                                                                     \n",
      "2024-09-27  64700  65400  64200  64200  28433030 -0.0077       2  -500   \n",
      "2024-09-30  64200  64300  61500  61500  32694163 -0.0421       2 -2700   \n",
      "2024-10-02  60500  61900  59900  61300  28473536 -0.0033       2  -200   \n",
      "2024-10-04  61000  61700  60500  60600  24247578 -0.0114       2  -700   \n",
      "2024-10-07  60200  61900  59500  61000  35066533  0.0066       1   400   \n",
      "\n",
      "                   Amount           MarCap      Shares  \n",
      "Date                                                    \n",
      "2024-09-27  1842321896031  383260039710000  5969782550  \n",
      "2024-09-30  2043449921900  367141626825000  5969782550  \n",
      "2024-10-02  1737678269615  365947670315000  5969782550  \n",
      "2024-10-04  1480865292580  361768822530000  5969782550  \n",
      "2024-10-07  2118597389800  364156735550000  5969782550  \n"
     ]
    }
   ],
   "source": [
    "# ... existing code ...\n",
    "# 재무 지표 가져오기\n",
    "df = fdr.DataReader(f'KRX:{stock_code}')\n",
    "print(df.tail())"
   ]
  }
 ],
 "metadata": {
  "kernelspec": {
   "display_name": "env",
   "language": "python",
   "name": "python3"
  },
  "language_info": {
   "codemirror_mode": {
    "name": "ipython",
    "version": 3
   },
   "file_extension": ".py",
   "mimetype": "text/x-python",
   "name": "python",
   "nbconvert_exporter": "python",
   "pygments_lexer": "ipython3",
   "version": "3.10.5"
  }
 },
 "nbformat": 4,
 "nbformat_minor": 2
}
