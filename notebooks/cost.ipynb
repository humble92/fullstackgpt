{
 "cells": [
  {
   "cell_type": "code",
   "execution_count": 1,
   "metadata": {},
   "outputs": [
    {
     "name": "stdout",
     "output_type": "stream",
     "text": [
      "Soju is a traditional Korean distilled alcoholic beverage. Here is a simple recipe to make soju at home:\n",
      "\n",
      "Ingredients:\n",
      "- 1 kg of rice\n",
      "- 1 kg of barley\n",
      "- 10 liters of water\n",
      "- 1 kg of nuruk (a Korean fermentation starter)\n",
      "- 1 cup of yeast\n",
      "- 1 cup of sugar\n",
      "\n",
      "Instructions:\n",
      "1. Rinse the rice and barley thoroughly to remove any impurities.\n",
      "2. In a large pot, add the rinsed rice, barley, and water. Bring it to a boil and let it simmer for about 1 hour until the grains are cooked and softened.\n",
      "3. Remove the pot from heat and let it cool down to room temperature.\n",
      "4. Once the mixture has cooled, transfer it to a large fermentation container or jar.\n",
      "5. Add the nuruk, yeast, and sugar to the container. Mix everything well to ensure the ingredients are evenly distributed.\n",
      "6. Cover the container with a clean cloth or lid, but leave a small opening for air circulation.\n",
      "7. Allow the mixture to ferment for about 7-10 days at room temperature. During this time, the fermentation process will convert the starches into alcohol.\n",
      "8. After the fermentation period, strain the liquid using a cheesecloth or fine mesh strainer to remove any solids.\n",
      "9. Transfer the strained liquid into bottles or jars for storage.\n",
      "10. Seal the bottles tightly and let them age for at least a month in a cool and dark place. This aging process will enhance the flavor and smoothness of the soju.\n",
      "11. Once the aging period is complete, your homemade soju is ready to be enjoyed!\n",
      "\n",
      "Note: This recipe is a simplified version of traditional soju-making, which typically involves more complex processes and equipment. \n",
      "\n",
      "Here is a basic recipe for making bread:\n",
      "\n",
      "Ingredients:\n",
      "- 4 cups all-purpose flour\n",
      "- 2 teaspoons active dry yeast\n",
      "- 2 teaspoons sugar\n",
      "- 2 teaspoons salt\n",
      "- 2 tablespoons olive oil\n",
      "- 1 ½ cups warm water\n",
      "\n",
      "Instructions:\n",
      "1. In a small bowl, combine the warm water, sugar, and yeast. Stir gently and let it sit for about 5 minutes until the mixture becomes frothy.\n",
      "\n",
      "2. In a large mixing bowl, combine the flour and salt. Make a well in the center and pour in the yeast mixture and olive oil.\n",
      "\n",
      "3. Stir the ingredients together until a dough forms. If the dough is too sticky, gradually add more flour, a tablespoon at a time, until it becomes manageable.\n",
      "\n",
      "4. Transfer the dough onto a lightly floured surface and knead it for about 10 minutes until it becomes smooth and elastic.\n",
      "\n",
      "5. Place the dough in a greased bowl, cover it with a clean kitchen towel, and let it rise in a warm place for about 1-2 hours or until it doubles in size.\n",
      "\n",
      "6. Once the dough has risen, punch it down to release any air bubbles. Transfer it to a lightly floured surface and shape it into a loaf or desired shape.\n",
      "\n",
      "7. Place the shaped dough onto a greased or parchment-lined baking sheet. Cover it with a kitchen towel and let it rise for another 30-45 minutes.\n",
      "\n",
      "8. Preheat the oven to 425°F (220°C). Optionally, you can place a baking dish with water on the bottom rack of the oven to create steam, which helps to achieve a crusty bread.\n",
      "\n",
      "9. Once the dough has risen again, make a few shallow slashes on the top using a sharp knife or razor blade. This helps the bread expand while baking.\n",
      "\n",
      "10. Bake the bread in the preheated oven for about 25-30 minutes or until it turns golden brown and sounds hollow when tapped on the bottom.\n",
      "\n",
      "11. Remove the bread from the oven and let it cool on a wire rack before slicing and serving.\n",
      "\n",
      "Enjoy your homemade bread! \n",
      "\n",
      "Tokens Used: 818\n",
      "\tPrompt Tokens: 29\n",
      "\tCompletion Tokens: 789\n",
      "Successful Requests: 2\n",
      "Total Cost (USD): $0.0016215\n"
     ]
    }
   ],
   "source": [
    "from langchain.chat_models import ChatOpenAI\n",
    "from langchain.callbacks import get_openai_callback\n",
    "\n",
    "chat = ChatOpenAI(\n",
    "    temperature=0.1,\n",
    ")\n",
    "\n",
    "\n",
    "with get_openai_callback() as usage:\n",
    "    a = chat.predict(\"What is the recipe for soju?\")\n",
    "    b = chat.predict(\"What is the recipe for bread?\")\n",
    "    print(a, \"\\n\")\n",
    "    print(b, \"\\n\")\n",
    "    print(usage)"
   ]
  }
 ],
 "metadata": {
  "kernelspec": {
   "display_name": "env",
   "language": "python",
   "name": "python3"
  },
  "language_info": {
   "codemirror_mode": {
    "name": "ipython",
    "version": 3
   },
   "file_extension": ".py",
   "mimetype": "text/x-python",
   "name": "python",
   "nbconvert_exporter": "python",
   "pygments_lexer": "ipython3",
   "version": "3.10.5"
  }
 },
 "nbformat": 4,
 "nbformat_minor": 2
}
